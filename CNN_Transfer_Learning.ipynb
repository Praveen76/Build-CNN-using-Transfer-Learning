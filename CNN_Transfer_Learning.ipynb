{
  "nbformat": 4,
  "nbformat_minor": 0,
  "metadata": {
    "colab": {
      "provenance": [],
      "include_colab_link": true
    },
    "kernelspec": {
      "name": "python3",
      "display_name": "Python 3"
    },
    "language_info": {
      "name": "python"
    },
    "accelerator": "GPU",
    "gpuClass": "standard"
  },
  "cells": [
    {
      "cell_type": "markdown",
      "metadata": {
        "id": "view-in-github",
        "colab_type": "text"
      },
      "source": [
        "<a href=\"https://colab.research.google.com/github/Praveen76/Build-CNN-using-Transfer-Learning/blob/main/CNN_Transfer_Learning.ipynb\" target=\"_parent\"><img src=\"https://colab.research.google.com/assets/colab-badge.svg\" alt=\"Open In Colab\"/></a>"
      ]
    },
    {
      "cell_type": "markdown",
      "source": [
        "## Learning Objectives:\n",
        "\n",
        "At the end of the experiment, you will be able to:\n",
        "\n",
        "1. Understand and use a pre-trained model\n",
        "2. Fine-tune the top layers while using a pre-trained model\n"
      ],
      "metadata": {
        "id": "1IVfPFW_fwSY"
      }
    },
    {
      "cell_type": "markdown",
      "metadata": {
        "id": "SsRvOU8bW3bj"
      },
      "source": [
        "## Introduction\n",
        "\n",
        "A common and highly effective approach to deep learning on small image datasets is to use a pre-trained model.\n",
        "\n",
        "If the original dataset is large enough and general enough, the spatial hierarchy of features learned by the pre-trained model can effectively act as a generic model of the visual world, and hence, its features can prove useful for many different computer vision problems even though these new problems may involve completely different classes than those of the original task.\n",
        "\n",
        "There are two ways to use a pre-trained model:\n",
        "  * feature extraction and\n",
        "  * fine-tuning"
      ]
    },
    {
      "cell_type": "markdown",
      "metadata": {
        "id": "av8AYVUgXflR"
      },
      "source": [
        "### Feature extraction"
      ]
    },
    {
      "cell_type": "markdown",
      "metadata": {
        "id": "bAe4IBm3YTDo"
      },
      "source": [
        "A CNN typically consists of a:\n",
        "* Convolutional base\n",
        "* Densely connected classifier\n",
        "\n",
        "Key Idea -\n",
        "* Features are learned by the convolutional base. So reuse it.\n",
        "* Train a new classifier for your problem"
      ]
    },
    {
      "cell_type": "markdown",
      "metadata": {
        "id": "7NP5AuR09mow"
      },
      "source": [
        "![picture](https://drive.google.com/uc?export=view&id=12FzJVGUCzQGDArYSqdABntKwKGHzIjVX)"
      ]
    },
    {
      "cell_type": "markdown",
      "source": [
        "### Import libraries"
      ],
      "metadata": {
        "id": "Hf1qet2EgGcL"
      }
    },
    {
      "cell_type": "code",
      "execution_count": 10,
      "metadata": {
        "id": "sgPKI1GpnAn7"
      },
      "outputs": [],
      "source": [
        "from tensorflow.keras.layers import Dense, Dropout, Flatten, Conv2D,MaxPool2D\n",
        "from tensorflow.keras import Input\n",
        "from tensorflow.keras import Model\n",
        "from tensorflow.keras.models import load_model\n",
        "import tensorflow as tf\n",
        "import tensorflow_datasets as tfds\n",
        "import numpy as np\n",
        "import pandas as pd\n",
        "import matplotlib.pyplot as plt"
      ]
    },
    {
      "cell_type": "markdown",
      "metadata": {
        "id": "seu6Ni2CX7CT"
      },
      "source": [
        "Let us reuse the VGG16 network which has been trained on the ImageNet, which contains multiple classes of cats and dogs among other things.\n",
        "\n",
        "We expect the convolution base to have learned features that help it identify cats and dogs.\n",
        "\n",
        "Keras provides us with a pre-trained VGG16 network!\n",
        "\n"
      ]
    },
    {
      "cell_type": "code",
      "source": [
        "from tensorflow.keras.applications.vgg16 import VGG16"
      ],
      "metadata": {
        "id": "fcNilE95iILQ"
      },
      "execution_count": 2,
      "outputs": []
    },
    {
      "cell_type": "code",
      "execution_count": 3,
      "metadata": {
        "id": "6ExTNZyWnEx3",
        "colab": {
          "base_uri": "https://localhost:8080/"
        },
        "outputId": "c08f696e-3bc6-4b9f-f3e5-699c04925c8f"
      },
      "outputs": [
        {
          "output_type": "stream",
          "name": "stdout",
          "text": [
            "Downloading data from https://storage.googleapis.com/tensorflow/keras-applications/vgg16/vgg16_weights_tf_dim_ordering_tf_kernels_notop.h5\n",
            "58889256/58889256 [==============================] - 2s 0us/step\n"
          ]
        }
      ],
      "source": [
        "# Load the convolutional base\n",
        "conv_base = VGG16(\n",
        "    weights = \"imagenet\",\n",
        "    include_top = False, # Don't re-use the classifier (top layers)\n",
        "    input_shape = (180,180,3)\n",
        ")"
      ]
    },
    {
      "cell_type": "code",
      "execution_count": 4,
      "metadata": {
        "id": "0b9kdoqLnPKx",
        "colab": {
          "base_uri": "https://localhost:8080/"
        },
        "outputId": "bba1995f-a0c9-4226-f108-bd2833669f51"
      },
      "outputs": [
        {
          "output_type": "stream",
          "name": "stdout",
          "text": [
            "Model: \"vgg16\"\n",
            "_________________________________________________________________\n",
            " Layer (type)                Output Shape              Param #   \n",
            "=================================================================\n",
            " input_1 (InputLayer)        [(None, 180, 180, 3)]     0         \n",
            "                                                                 \n",
            " block1_conv1 (Conv2D)       (None, 180, 180, 64)      1792      \n",
            "                                                                 \n",
            " block1_conv2 (Conv2D)       (None, 180, 180, 64)      36928     \n",
            "                                                                 \n",
            " block1_pool (MaxPooling2D)  (None, 90, 90, 64)        0         \n",
            "                                                                 \n",
            " block2_conv1 (Conv2D)       (None, 90, 90, 128)       73856     \n",
            "                                                                 \n",
            " block2_conv2 (Conv2D)       (None, 90, 90, 128)       147584    \n",
            "                                                                 \n",
            " block2_pool (MaxPooling2D)  (None, 45, 45, 128)       0         \n",
            "                                                                 \n",
            " block3_conv1 (Conv2D)       (None, 45, 45, 256)       295168    \n",
            "                                                                 \n",
            " block3_conv2 (Conv2D)       (None, 45, 45, 256)       590080    \n",
            "                                                                 \n",
            " block3_conv3 (Conv2D)       (None, 45, 45, 256)       590080    \n",
            "                                                                 \n",
            " block3_pool (MaxPooling2D)  (None, 22, 22, 256)       0         \n",
            "                                                                 \n",
            " block4_conv1 (Conv2D)       (None, 22, 22, 512)       1180160   \n",
            "                                                                 \n",
            " block4_conv2 (Conv2D)       (None, 22, 22, 512)       2359808   \n",
            "                                                                 \n",
            " block4_conv3 (Conv2D)       (None, 22, 22, 512)       2359808   \n",
            "                                                                 \n",
            " block4_pool (MaxPooling2D)  (None, 11, 11, 512)       0         \n",
            "                                                                 \n",
            " block5_conv1 (Conv2D)       (None, 11, 11, 512)       2359808   \n",
            "                                                                 \n",
            " block5_conv2 (Conv2D)       (None, 11, 11, 512)       2359808   \n",
            "                                                                 \n",
            " block5_conv3 (Conv2D)       (None, 11, 11, 512)       2359808   \n",
            "                                                                 \n",
            " block5_pool (MaxPooling2D)  (None, 5, 5, 512)         0         \n",
            "                                                                 \n",
            "=================================================================\n",
            "Total params: 14714688 (56.13 MB)\n",
            "Trainable params: 14714688 (56.13 MB)\n",
            "Non-trainable params: 0 (0.00 Byte)\n",
            "_________________________________________________________________\n"
          ]
        }
      ],
      "source": [
        "# See a summary of the convolutional base\n",
        "conv_base.summary()"
      ]
    },
    {
      "cell_type": "markdown",
      "metadata": {
        "id": "_UKbWJkUbMJt"
      },
      "source": [
        "So how do we extract the features? Simple:\n",
        "\n",
        "Pass the images through the convolutional base."
      ]
    },
    {
      "cell_type": "code",
      "source": [
        "#@title Download the data\n",
        "\n",
        "\n",
        "# Load the cats_vs_dogs dataset\n",
        "dataset, info = tfds.load('cats_vs_dogs', split='train', with_info=True)\n",
        "\n",
        "# Define the percentage of the dataset to be used\n",
        "percentage_to_use = 0.4  # Adjust as needed\n",
        "\n",
        "# Calculate the size of the subset\n",
        "subset_size = int(percentage_to_use * info.splits['train'].num_examples)\n",
        "\n",
        "# Take a subset of the dataset\n",
        "subset_dataset = dataset.take(subset_size)\n",
        "\n",
        "# Function to filter dataset by class label\n",
        "def filter_by_label(example, label):\n",
        "    return example['label'] == label\n",
        "\n",
        "# Stratified sampling for cats (label 0)\n",
        "cats_subset = subset_dataset.filter(lambda example: filter_by_label(example, label=0))\n",
        "\n",
        "# Stratified sampling for dogs (label 1)\n",
        "dogs_subset = subset_dataset.filter(lambda example: filter_by_label(example, label=1))\n",
        "\n",
        "# Combine the stratified subsets\n",
        "stratified_subset = tf.data.Dataset.concatenate(cats_subset, dogs_subset)\n",
        "\n"
      ],
      "metadata": {
        "id": "S-Wl6uFLjL3Y"
      },
      "execution_count": 11,
      "outputs": []
    },
    {
      "cell_type": "code",
      "source": [
        "# Function to resize an image\n",
        "def resize_image(sample):\n",
        "    image = sample['image']\n",
        "    resized_image = tf.image.resize(image, (180, 180))  # Adjust the target size as needed\n",
        "    sample['image'] = resized_image\n",
        "    return sample\n",
        "\n",
        "# Apply image resizing to the entire dataset\n",
        "stratified_subset = stratified_subset.map(resize_image)\n",
        "\n",
        "\n",
        "print(f\"stratified_subset = {stratified_subset}\")"
      ],
      "metadata": {
        "colab": {
          "base_uri": "https://localhost:8080/"
        },
        "id": "4G_UF5GCqHtE",
        "outputId": "9a2ce312-683e-4613-fca7-5758a01b64b4"
      },
      "execution_count": 12,
      "outputs": [
        {
          "output_type": "stream",
          "name": "stdout",
          "text": [
            "stratified_subset = <_MapDataset element_spec={'image': TensorSpec(shape=(180, 180, 3), dtype=tf.float32, name=None), 'image/filename': TensorSpec(shape=(), dtype=tf.string, name=None), 'label': TensorSpec(shape=(), dtype=tf.int64, name=None)}>\n"
          ]
        }
      ]
    },
    {
      "cell_type": "markdown",
      "source": [
        "### Converting the image dataset into a workable format"
      ],
      "metadata": {
        "id": "K1JApk1OjbKR"
      }
    },
    {
      "cell_type": "code",
      "source": [
        "# Define the sizes for training, validation, and testing sets\n",
        "train_size = int(0.8 * subset_size)  # 80% for training\n",
        "validation_size = int(0.1 * subset_size)  # 10% for validation\n",
        "test_size = subset_size - train_size - validation_size  # Remaining for testing\n",
        "\n",
        "batch_size = 32\n",
        "\n",
        "# Create a new dataset with a simpler structure using map for training\n",
        "train_dataset = (\n",
        "    stratified_subset\n",
        "    .take(train_size)\n",
        "    .map(lambda x: (x['image'], x['label']))\n",
        "    .batch(batch_size)\n",
        "    .prefetch(buffer_size=tf.data.AUTOTUNE)\n",
        ")\n",
        "\n",
        "# Create a new dataset with a simpler structure using map for validation\n",
        "validation_dataset = (\n",
        "    stratified_subset\n",
        "    .skip(train_size)  # Skip the training set\n",
        "    .take(validation_size)\n",
        "    .map(lambda x: (x['image'], x['label']))\n",
        "    .batch(batch_size)\n",
        "    .prefetch(buffer_size=tf.data.AUTOTUNE)\n",
        ")\n",
        "\n",
        "# Create a new dataset with a simpler structure using map for testing\n",
        "test_dataset = (\n",
        "    stratified_subset\n",
        "    .skip(train_size + validation_size)  # Skip the training and validation sets\n",
        "    .map(lambda x: (x['image'], x['label']))\n",
        "    .batch(batch_size)\n",
        "    .prefetch(buffer_size=tf.data.AUTOTUNE)\n",
        ")\n",
        "\n",
        "# Access the element_spec attribute to get the shape of a batch for training\n",
        "print(\"train_dataset =\", train_dataset, \"\\n\")\n",
        "\n",
        "# Access the element_spec attribute to get the shape of a batch for validation\n",
        "print(\"validation_dataset =\", validation_dataset, \"\\n\")\n",
        "\n",
        "# Access the element_spec attribute to get the shape of a batch for testing\n",
        "print(\"test_dataset =\", test_dataset, \"\\n\")\n",
        "\n"
      ],
      "metadata": {
        "id": "hjXVr-IhjWkB",
        "colab": {
          "base_uri": "https://localhost:8080/"
        },
        "outputId": "77ce199f-de67-4982-c47a-b9af2257e2d8"
      },
      "execution_count": 13,
      "outputs": [
        {
          "output_type": "stream",
          "name": "stdout",
          "text": [
            "train_dataset = <_PrefetchDataset element_spec=(TensorSpec(shape=(None, 180, 180, 3), dtype=tf.float32, name=None), TensorSpec(shape=(None,), dtype=tf.int64, name=None))> \n",
            "\n",
            "validation_dataset = <_PrefetchDataset element_spec=(TensorSpec(shape=(None, 180, 180, 3), dtype=tf.float32, name=None), TensorSpec(shape=(None,), dtype=tf.int64, name=None))> \n",
            "\n",
            "test_dataset = <_PrefetchDataset element_spec=(TensorSpec(shape=(None, 180, 180, 3), dtype=tf.float32, name=None), TensorSpec(shape=(None,), dtype=tf.int64, name=None))> \n",
            "\n"
          ]
        }
      ]
    },
    {
      "cell_type": "markdown",
      "source": [
        "### Passing the dataset through Conv Base i.e forward pass through pre-trained weights\n",
        "\n",
        "Before forward pass, Preprocessing the dataset specific to VGG16 is also required."
      ],
      "metadata": {
        "id": "JQ0gpF96nqkT"
      }
    },
    {
      "cell_type": "code",
      "source": [
        "from tensorflow.keras.applications.vgg16 import preprocess_input       # Importing function for preprocessing specific to the vgg16"
      ],
      "metadata": {
        "id": "LqSbNdyUkIRe"
      },
      "execution_count": 14,
      "outputs": []
    },
    {
      "cell_type": "code",
      "source": [
        "# Verify batch size for training\n",
        "for data_batch, labels_batch in train_dataset:\n",
        "    print(\"=====train_dataset======\")\n",
        "    print(\"data batch shape (train):\", data_batch.shape)\n",
        "    print(\"labels batch shape (train):\", labels_batch.shape, \"\\n\")\n",
        "    break\n",
        "\n",
        "# Verify batch size for validation\n",
        "for data_batch, labels_batch in validation_dataset:\n",
        "    print(\"=====validation_dataset======\")\n",
        "    print(\"data batch shape (validation):\", data_batch.shape)\n",
        "    print(\"labels batch shape (validation):\", labels_batch.shape, \"\\n\")\n",
        "    break\n",
        "\n",
        "# Verify batch size for testing\n",
        "for data_batch, labels_batch in test_dataset:\n",
        "    print(\"=====test_dataset======\")\n",
        "    print(\"data batch shape (test):\", data_batch.shape)\n",
        "    print(\"labels batch shape (test):\", labels_batch.shape)\n",
        "    break\n",
        "\n"
      ],
      "metadata": {
        "id": "VJvCknioxng1"
      },
      "execution_count": null,
      "outputs": []
    },
    {
      "cell_type": "code",
      "source": [],
      "metadata": {
        "id": "sgpfZd5lxt3Z"
      },
      "execution_count": null,
      "outputs": []
    },
    {
      "cell_type": "code",
      "execution_count": 15,
      "metadata": {
        "id": "kRw1G2rlnUG5",
        "colab": {
          "base_uri": "https://localhost:8080/"
        },
        "outputId": "1af4b890-d6ae-4c4a-f8a9-aa4bd900ed46"
      },
      "outputs": [
        {
          "output_type": "stream",
          "name": "stdout",
          "text": [
            "1/1 [==============================] - 10s 10s/step\n",
            "1/1 [==============================] - 0s 26ms/step\n",
            "1/1 [==============================] - 0s 28ms/step\n",
            "1/1 [==============================] - 0s 37ms/step\n",
            "1/1 [==============================] - 0s 35ms/step\n",
            "1/1 [==============================] - 0s 30ms/step\n",
            "1/1 [==============================] - 0s 32ms/step\n",
            "1/1 [==============================] - 0s 26ms/step\n",
            "1/1 [==============================] - 0s 31ms/step\n",
            "1/1 [==============================] - 0s 22ms/step\n",
            "1/1 [==============================] - 0s 23ms/step\n",
            "1/1 [==============================] - 0s 30ms/step\n",
            "1/1 [==============================] - 0s 39ms/step\n",
            "1/1 [==============================] - 0s 29ms/step\n",
            "1/1 [==============================] - 0s 30ms/step\n",
            "1/1 [==============================] - 0s 37ms/step\n",
            "1/1 [==============================] - 0s 24ms/step\n",
            "1/1 [==============================] - 0s 41ms/step\n",
            "1/1 [==============================] - 0s 25ms/step\n",
            "1/1 [==============================] - 0s 28ms/step\n",
            "1/1 [==============================] - 0s 29ms/step\n",
            "1/1 [==============================] - 0s 32ms/step\n",
            "1/1 [==============================] - 0s 23ms/step\n",
            "1/1 [==============================] - 0s 27ms/step\n",
            "1/1 [==============================] - 0s 28ms/step\n",
            "1/1 [==============================] - 0s 29ms/step\n",
            "1/1 [==============================] - 0s 25ms/step\n",
            "1/1 [==============================] - 0s 29ms/step\n",
            "1/1 [==============================] - 0s 36ms/step\n",
            "1/1 [==============================] - 0s 24ms/step\n",
            "1/1 [==============================] - 0s 24ms/step\n",
            "1/1 [==============================] - 0s 23ms/step\n",
            "1/1 [==============================] - 0s 30ms/step\n",
            "1/1 [==============================] - 0s 24ms/step\n",
            "1/1 [==============================] - 0s 26ms/step\n",
            "1/1 [==============================] - 0s 34ms/step\n",
            "1/1 [==============================] - 0s 28ms/step\n",
            "1/1 [==============================] - 0s 25ms/step\n",
            "1/1 [==============================] - 0s 31ms/step\n",
            "1/1 [==============================] - 0s 33ms/step\n",
            "1/1 [==============================] - 0s 29ms/step\n",
            "1/1 [==============================] - 0s 30ms/step\n",
            "1/1 [==============================] - 0s 29ms/step\n",
            "1/1 [==============================] - 0s 29ms/step\n",
            "1/1 [==============================] - 0s 39ms/step\n",
            "1/1 [==============================] - 0s 27ms/step\n",
            "1/1 [==============================] - 0s 29ms/step\n",
            "1/1 [==============================] - 0s 29ms/step\n",
            "1/1 [==============================] - 0s 37ms/step\n",
            "1/1 [==============================] - 0s 30ms/step\n",
            "1/1 [==============================] - 0s 32ms/step\n",
            "1/1 [==============================] - 0s 53ms/step\n",
            "1/1 [==============================] - 0s 33ms/step\n",
            "1/1 [==============================] - 0s 39ms/step\n",
            "1/1 [==============================] - 0s 53ms/step\n",
            "1/1 [==============================] - 0s 35ms/step\n",
            "1/1 [==============================] - 0s 39ms/step\n",
            "1/1 [==============================] - 0s 33ms/step\n",
            "1/1 [==============================] - 0s 37ms/step\n",
            "1/1 [==============================] - 0s 48ms/step\n",
            "1/1 [==============================] - 0s 34ms/step\n",
            "1/1 [==============================] - 0s 36ms/step\n",
            "1/1 [==============================] - 0s 32ms/step\n",
            "1/1 [==============================] - 0s 29ms/step\n",
            "1/1 [==============================] - 0s 36ms/step\n",
            "1/1 [==============================] - 0s 54ms/step\n",
            "1/1 [==============================] - 0s 54ms/step\n",
            "1/1 [==============================] - 0s 33ms/step\n",
            "1/1 [==============================] - 0s 26ms/step\n",
            "1/1 [==============================] - 0s 29ms/step\n",
            "1/1 [==============================] - 0s 22ms/step\n",
            "1/1 [==============================] - 0s 28ms/step\n",
            "1/1 [==============================] - 0s 29ms/step\n",
            "1/1 [==============================] - 0s 45ms/step\n",
            "1/1 [==============================] - 0s 25ms/step\n",
            "1/1 [==============================] - 0s 29ms/step\n",
            "1/1 [==============================] - 0s 25ms/step\n",
            "1/1 [==============================] - 0s 22ms/step\n",
            "1/1 [==============================] - 0s 29ms/step\n",
            "1/1 [==============================] - 0s 29ms/step\n",
            "1/1 [==============================] - 0s 25ms/step\n",
            "1/1 [==============================] - 0s 23ms/step\n",
            "1/1 [==============================] - 0s 24ms/step\n",
            "1/1 [==============================] - 0s 30ms/step\n",
            "1/1 [==============================] - 0s 30ms/step\n",
            "1/1 [==============================] - 0s 41ms/step\n",
            "1/1 [==============================] - 0s 29ms/step\n",
            "1/1 [==============================] - 0s 40ms/step\n",
            "1/1 [==============================] - 0s 32ms/step\n",
            "1/1 [==============================] - 0s 43ms/step\n",
            "1/1 [==============================] - 0s 26ms/step\n",
            "1/1 [==============================] - 0s 23ms/step\n",
            "1/1 [==============================] - 0s 35ms/step\n",
            "1/1 [==============================] - 0s 36ms/step\n",
            "1/1 [==============================] - 0s 29ms/step\n",
            "1/1 [==============================] - 0s 33ms/step\n",
            "1/1 [==============================] - 0s 35ms/step\n",
            "1/1 [==============================] - 0s 28ms/step\n",
            "1/1 [==============================] - 0s 34ms/step\n",
            "1/1 [==============================] - 0s 26ms/step\n",
            "1/1 [==============================] - 0s 26ms/step\n",
            "1/1 [==============================] - 0s 26ms/step\n",
            "1/1 [==============================] - 0s 33ms/step\n",
            "1/1 [==============================] - 0s 32ms/step\n",
            "1/1 [==============================] - 0s 22ms/step\n",
            "1/1 [==============================] - 0s 21ms/step\n",
            "1/1 [==============================] - 0s 29ms/step\n",
            "1/1 [==============================] - 0s 21ms/step\n",
            "1/1 [==============================] - 0s 28ms/step\n",
            "1/1 [==============================] - 0s 29ms/step\n",
            "1/1 [==============================] - 0s 25ms/step\n",
            "1/1 [==============================] - 0s 35ms/step\n",
            "1/1 [==============================] - 0s 35ms/step\n",
            "1/1 [==============================] - 0s 48ms/step\n",
            "1/1 [==============================] - 0s 46ms/step\n",
            "1/1 [==============================] - 0s 35ms/step\n",
            "1/1 [==============================] - 0s 42ms/step\n",
            "1/1 [==============================] - 0s 34ms/step\n",
            "1/1 [==============================] - 0s 49ms/step\n",
            "1/1 [==============================] - 0s 79ms/step\n",
            "1/1 [==============================] - 0s 81ms/step\n",
            "1/1 [==============================] - 0s 37ms/step\n",
            "1/1 [==============================] - 0s 39ms/step\n",
            "1/1 [==============================] - 0s 62ms/step\n",
            "1/1 [==============================] - 0s 30ms/step\n",
            "1/1 [==============================] - 0s 33ms/step\n",
            "1/1 [==============================] - 0s 36ms/step\n",
            "1/1 [==============================] - 0s 40ms/step\n",
            "1/1 [==============================] - 0s 48ms/step\n",
            "1/1 [==============================] - 0s 33ms/step\n",
            "1/1 [==============================] - 0s 32ms/step\n",
            "1/1 [==============================] - 0s 31ms/step\n",
            "1/1 [==============================] - 0s 28ms/step\n",
            "1/1 [==============================] - 0s 37ms/step\n",
            "1/1 [==============================] - 0s 28ms/step\n",
            "1/1 [==============================] - 0s 23ms/step\n",
            "1/1 [==============================] - 0s 32ms/step\n",
            "1/1 [==============================] - 0s 34ms/step\n",
            "1/1 [==============================] - 0s 23ms/step\n",
            "1/1 [==============================] - 0s 22ms/step\n",
            "1/1 [==============================] - 0s 33ms/step\n",
            "1/1 [==============================] - 0s 32ms/step\n",
            "1/1 [==============================] - 0s 50ms/step\n",
            "1/1 [==============================] - 0s 26ms/step\n",
            "1/1 [==============================] - 0s 32ms/step\n",
            "1/1 [==============================] - 0s 32ms/step\n",
            "1/1 [==============================] - 0s 36ms/step\n",
            "1/1 [==============================] - 0s 48ms/step\n",
            "1/1 [==============================] - 0s 28ms/step\n",
            "1/1 [==============================] - 0s 38ms/step\n",
            "1/1 [==============================] - 0s 22ms/step\n",
            "1/1 [==============================] - 0s 36ms/step\n",
            "1/1 [==============================] - 0s 24ms/step\n",
            "1/1 [==============================] - 0s 24ms/step\n",
            "1/1 [==============================] - 0s 29ms/step\n",
            "1/1 [==============================] - 0s 33ms/step\n",
            "1/1 [==============================] - 0s 35ms/step\n",
            "1/1 [==============================] - 0s 31ms/step\n",
            "1/1 [==============================] - 0s 29ms/step\n",
            "1/1 [==============================] - 0s 24ms/step\n",
            "1/1 [==============================] - 0s 22ms/step\n",
            "1/1 [==============================] - 0s 25ms/step\n",
            "1/1 [==============================] - 0s 28ms/step\n",
            "1/1 [==============================] - 0s 41ms/step\n",
            "1/1 [==============================] - 0s 25ms/step\n",
            "1/1 [==============================] - 0s 31ms/step\n",
            "1/1 [==============================] - 0s 25ms/step\n",
            "1/1 [==============================] - 0s 30ms/step\n",
            "1/1 [==============================] - 0s 22ms/step\n",
            "1/1 [==============================] - 0s 33ms/step\n",
            "1/1 [==============================] - 0s 27ms/step\n",
            "1/1 [==============================] - 0s 26ms/step\n",
            "1/1 [==============================] - 0s 32ms/step\n",
            "1/1 [==============================] - 0s 34ms/step\n",
            "1/1 [==============================] - 0s 30ms/step\n",
            "1/1 [==============================] - 0s 38ms/step\n",
            "1/1 [==============================] - 0s 32ms/step\n",
            "1/1 [==============================] - 0s 31ms/step\n",
            "1/1 [==============================] - 0s 30ms/step\n",
            "1/1 [==============================] - 0s 38ms/step\n",
            "1/1 [==============================] - 0s 23ms/step\n",
            "1/1 [==============================] - 0s 26ms/step\n",
            "1/1 [==============================] - 0s 39ms/step\n",
            "1/1 [==============================] - 0s 33ms/step\n",
            "1/1 [==============================] - 0s 32ms/step\n",
            "1/1 [==============================] - 0s 24ms/step\n",
            "1/1 [==============================] - 0s 30ms/step\n",
            "1/1 [==============================] - 0s 28ms/step\n",
            "1/1 [==============================] - 0s 43ms/step\n",
            "1/1 [==============================] - 0s 52ms/step\n",
            "1/1 [==============================] - 0s 35ms/step\n",
            "1/1 [==============================] - 0s 50ms/step\n",
            "1/1 [==============================] - 0s 40ms/step\n",
            "1/1 [==============================] - 0s 38ms/step\n",
            "1/1 [==============================] - 0s 34ms/step\n",
            "1/1 [==============================] - 0s 34ms/step\n",
            "1/1 [==============================] - 0s 35ms/step\n",
            "1/1 [==============================] - 0s 37ms/step\n",
            "1/1 [==============================] - 0s 29ms/step\n",
            "1/1 [==============================] - 0s 39ms/step\n",
            "1/1 [==============================] - 0s 42ms/step\n",
            "1/1 [==============================] - 0s 46ms/step\n",
            "1/1 [==============================] - 0s 27ms/step\n",
            "1/1 [==============================] - 0s 117ms/step\n",
            "1/1 [==============================] - 0s 96ms/step\n",
            "1/1 [==============================] - 0s 30ms/step\n",
            "1/1 [==============================] - 0s 34ms/step\n",
            "1/1 [==============================] - 0s 27ms/step\n",
            "1/1 [==============================] - 0s 95ms/step\n",
            "1/1 [==============================] - 0s 79ms/step\n",
            "1/1 [==============================] - 0s 22ms/step\n",
            "1/1 [==============================] - 0s 35ms/step\n",
            "1/1 [==============================] - 0s 126ms/step\n",
            "1/1 [==============================] - 0s 72ms/step\n",
            "1/1 [==============================] - 0s 30ms/step\n",
            "1/1 [==============================] - 0s 32ms/step\n",
            "1/1 [==============================] - 0s 22ms/step\n",
            "1/1 [==============================] - 0s 25ms/step\n",
            "1/1 [==============================] - 0s 30ms/step\n",
            "1/1 [==============================] - 0s 26ms/step\n",
            "1/1 [==============================] - 0s 24ms/step\n",
            "1/1 [==============================] - 0s 36ms/step\n",
            "1/1 [==============================] - 0s 30ms/step\n",
            "1/1 [==============================] - 0s 32ms/step\n",
            "1/1 [==============================] - 0s 26ms/step\n",
            "1/1 [==============================] - 0s 22ms/step\n",
            "1/1 [==============================] - 0s 24ms/step\n",
            "1/1 [==============================] - 0s 29ms/step\n",
            "1/1 [==============================] - 0s 29ms/step\n",
            "1/1 [==============================] - 0s 22ms/step\n",
            "1/1 [==============================] - 0s 23ms/step\n",
            "1/1 [==============================] - 0s 24ms/step\n",
            "1/1 [==============================] - 2s 2s/step\n",
            "1/1 [==============================] - 0s 41ms/step\n",
            "1/1 [==============================] - 0s 35ms/step\n",
            "1/1 [==============================] - 0s 21ms/step\n",
            "1/1 [==============================] - 0s 39ms/step\n",
            "1/1 [==============================] - 0s 33ms/step\n",
            "1/1 [==============================] - 0s 26ms/step\n",
            "1/1 [==============================] - 0s 26ms/step\n",
            "1/1 [==============================] - 0s 93ms/step\n",
            "1/1 [==============================] - 0s 62ms/step\n",
            "1/1 [==============================] - 0s 31ms/step\n",
            "1/1 [==============================] - 0s 38ms/step\n",
            "1/1 [==============================] - 0s 30ms/step\n",
            "1/1 [==============================] - 0s 29ms/step\n",
            "1/1 [==============================] - 0s 42ms/step\n",
            "1/1 [==============================] - 0s 34ms/step\n",
            "1/1 [==============================] - 0s 53ms/step\n",
            "1/1 [==============================] - 0s 31ms/step\n",
            "1/1 [==============================] - 0s 40ms/step\n",
            "1/1 [==============================] - 0s 32ms/step\n",
            "1/1 [==============================] - 0s 32ms/step\n",
            "1/1 [==============================] - 0s 30ms/step\n",
            "1/1 [==============================] - 0s 51ms/step\n",
            "1/1 [==============================] - 0s 29ms/step\n",
            "1/1 [==============================] - 0s 27ms/step\n",
            "1/1 [==============================] - 0s 27ms/step\n",
            "1/1 [==============================] - 0s 22ms/step\n",
            "1/1 [==============================] - 0s 22ms/step\n",
            "1/1 [==============================] - 0s 22ms/step\n",
            "1/1 [==============================] - 0s 23ms/step\n",
            "1/1 [==============================] - 0s 494ms/step\n",
            "1/1 [==============================] - 0s 47ms/step\n",
            "1/1 [==============================] - 0s 37ms/step\n",
            "1/1 [==============================] - 0s 48ms/step\n",
            "1/1 [==============================] - 0s 22ms/step\n",
            "1/1 [==============================] - 0s 22ms/step\n",
            "1/1 [==============================] - 0s 29ms/step\n",
            "1/1 [==============================] - 0s 41ms/step\n",
            "1/1 [==============================] - 0s 30ms/step\n",
            "1/1 [==============================] - 0s 34ms/step\n",
            "1/1 [==============================] - 0s 48ms/step\n",
            "1/1 [==============================] - 0s 34ms/step\n",
            "1/1 [==============================] - 0s 31ms/step\n",
            "1/1 [==============================] - 0s 24ms/step\n",
            "1/1 [==============================] - 0s 22ms/step\n",
            "1/1 [==============================] - 0s 31ms/step\n",
            "1/1 [==============================] - 0s 22ms/step\n",
            "1/1 [==============================] - 0s 23ms/step\n",
            "1/1 [==============================] - 0s 23ms/step\n",
            "1/1 [==============================] - 0s 32ms/step\n",
            "1/1 [==============================] - 0s 23ms/step\n",
            "1/1 [==============================] - 0s 29ms/step\n",
            "1/1 [==============================] - 0s 21ms/step\n",
            "1/1 [==============================] - 0s 24ms/step\n",
            "1/1 [==============================] - 0s 29ms/step\n",
            "1/1 [==============================] - 0s 24ms/step\n",
            "1/1 [==============================] - 0s 25ms/step\n",
            "1/1 [==============================] - 0s 25ms/step\n",
            "1/1 [==============================] - 0s 22ms/step\n",
            "1/1 [==============================] - 0s 21ms/step\n",
            "1/1 [==============================] - 1s 588ms/step\n"
          ]
        }
      ],
      "source": [
        "# Extracting the features from pretrained models\n",
        "def get_features_and_labels(dataset):\n",
        "    all_features = []\n",
        "    all_labels = []\n",
        "    for images, labels in dataset:\n",
        "        preprocessed_images = preprocess_input(images) # preprocessing specific to the vgg16\n",
        "        features = conv_base.predict(preprocessed_images)    # forward pass\n",
        "        all_features.append(features)\n",
        "        all_labels.append(labels)\n",
        "    return np.concatenate(all_features), np.concatenate(all_labels)\n",
        "\n",
        "# Doing the same for all datasets\n",
        "train_feature, train_labels = get_features_and_labels(train_dataset)\n",
        "val_feature, val_labels = get_features_and_labels(validation_dataset)\n",
        "test_feature, test_labels = get_features_and_labels(test_dataset)"
      ]
    },
    {
      "cell_type": "markdown",
      "metadata": {
        "id": "xyAs3DUVntAy"
      },
      "source": [
        "### Defining and training the densely connected classifier\n",
        "\n"
      ]
    },
    {
      "cell_type": "code",
      "execution_count": 16,
      "metadata": {
        "id": "KFHNlQaqnfo_"
      },
      "outputs": [],
      "source": [
        "# Q: Defining the classifier using the Functional API\n",
        "inputs = Input(shape=(5,5,512))\n",
        "x = Flatten()(inputs)\n",
        "x = Dense(256)(x)\n",
        "x = Dropout(0.5)(x)\n",
        "outputs = Dense(1,activation=\"sigmoid\")(x)\n",
        "model_without_conv_base = Model(inputs,outputs)  ## Model is imported from keras while importing libraries\n",
        "\n",
        "model_without_conv_base.compile(loss=\"binary_crossentropy\",\n",
        "             optimizer=\"rmsprop\",\n",
        "             metrics=[\"accuracy\"])"
      ]
    },
    {
      "cell_type": "markdown",
      "source": [
        "#### Call Back Function"
      ],
      "metadata": {
        "id": "gAY7NwrZM81q"
      }
    },
    {
      "cell_type": "code",
      "source": [
        "from tensorflow.keras.callbacks import ModelCheckpoint\n",
        "from tensorflow.keras.callbacks import TensorBoard\n",
        "from tensorflow.keras.callbacks import EarlyStopping"
      ],
      "metadata": {
        "id": "eFC5KcwnsyuP"
      },
      "execution_count": 17,
      "outputs": []
    },
    {
      "cell_type": "code",
      "execution_count": 18,
      "metadata": {
        "id": "pRjznrJmvYwE"
      },
      "outputs": [],
      "source": [
        "# Define a function to return a commmonly used callback_list\n",
        "def def_callbacks(filepath, mod_chk_mon = \"val_loss\", tensorboard = True, earlystop = 0 ):\n",
        "    callback_list = []\n",
        "\n",
        "    # Defualt callback\n",
        "    callback_list.append(ModelCheckpoint(filepath,\n",
        "                                         save_best_only = True,\n",
        "                                         monitor=mod_chk_mon))\n",
        "    if tensorboard:\n",
        "      log_dir = \"tensorLog_\" + filepath\n",
        "      callback_list.append(TensorBoard(log_dir=log_dir))\n",
        "\n",
        "    if earlystop>0:\n",
        "       callback_list.append(EarlyStopping(patience=earlystop))\n",
        "\n",
        "    return callback_list"
      ]
    },
    {
      "cell_type": "code",
      "execution_count": 19,
      "metadata": {
        "id": "_YHU9VyboGQs",
        "colab": {
          "base_uri": "https://localhost:8080/"
        },
        "outputId": "3016368a-56d8-4bcc-9f7c-06a23e8a958f"
      },
      "outputs": [
        {
          "output_type": "stream",
          "name": "stdout",
          "text": [
            "Epoch 1/20\n",
            "233/233 [==============================] - 5s 8ms/step - loss: 9.2367 - accuracy: 0.9520 - val_loss: 4.4605 - val_accuracy: 0.9763\n",
            "Epoch 2/20\n",
            "233/233 [==============================] - 1s 4ms/step - loss: 3.0284 - accuracy: 0.9823 - val_loss: 6.3702 - val_accuracy: 0.9688\n",
            "Epoch 3/20\n",
            "233/233 [==============================] - 2s 7ms/step - loss: 2.0406 - accuracy: 0.9858 - val_loss: 3.3567 - val_accuracy: 0.9806\n",
            "Epoch 4/20\n",
            "233/233 [==============================] - 1s 4ms/step - loss: 1.6277 - accuracy: 0.9871 - val_loss: 8.3826 - val_accuracy: 0.9602\n",
            "Epoch 5/20\n",
            "233/233 [==============================] - 1s 4ms/step - loss: 1.1368 - accuracy: 0.9906 - val_loss: 7.2987 - val_accuracy: 0.9634\n",
            "Epoch 6/20\n",
            "233/233 [==============================] - 1s 5ms/step - loss: 0.6174 - accuracy: 0.9940 - val_loss: 4.3816 - val_accuracy: 0.9763\n",
            "Epoch 7/20\n",
            "233/233 [==============================] - 1s 5ms/step - loss: 0.4460 - accuracy: 0.9941 - val_loss: 9.3380 - val_accuracy: 0.9570\n",
            "Epoch 8/20\n",
            "233/233 [==============================] - 1s 6ms/step - loss: 0.3278 - accuracy: 0.9956 - val_loss: 6.0748 - val_accuracy: 0.9731\n",
            "Epoch 9/20\n",
            "233/233 [==============================] - 1s 6ms/step - loss: 0.3991 - accuracy: 0.9953 - val_loss: 8.6191 - val_accuracy: 0.9645\n",
            "Epoch 10/20\n",
            "233/233 [==============================] - 1s 6ms/step - loss: 0.1226 - accuracy: 0.9981 - val_loss: 18.2720 - val_accuracy: 0.9290\n",
            "Epoch 11/20\n",
            "233/233 [==============================] - 1s 5ms/step - loss: 0.1154 - accuracy: 0.9979 - val_loss: 16.1962 - val_accuracy: 0.9409\n",
            "Epoch 12/20\n",
            "233/233 [==============================] - 1s 4ms/step - loss: 0.1256 - accuracy: 0.9984 - val_loss: 10.8582 - val_accuracy: 0.9570\n",
            "Epoch 13/20\n",
            "233/233 [==============================] - 1s 5ms/step - loss: 0.1145 - accuracy: 0.9980 - val_loss: 10.0385 - val_accuracy: 0.9613\n",
            "Epoch 14/20\n",
            "233/233 [==============================] - 1s 4ms/step - loss: 0.2250 - accuracy: 0.9976 - val_loss: 8.1292 - val_accuracy: 0.9677\n",
            "Epoch 15/20\n",
            "233/233 [==============================] - 1s 4ms/step - loss: 0.1760 - accuracy: 0.9979 - val_loss: 11.3973 - val_accuracy: 0.9559\n",
            "Epoch 16/20\n",
            "233/233 [==============================] - 1s 4ms/step - loss: 0.0720 - accuracy: 0.9992 - val_loss: 9.5717 - val_accuracy: 0.9613\n",
            "Epoch 17/20\n",
            "233/233 [==============================] - 1s 5ms/step - loss: 0.1351 - accuracy: 0.9977 - val_loss: 16.3467 - val_accuracy: 0.9409\n",
            "Epoch 18/20\n",
            "233/233 [==============================] - 1s 5ms/step - loss: 0.2033 - accuracy: 0.9976 - val_loss: 15.1478 - val_accuracy: 0.9452\n",
            "Epoch 19/20\n",
            "233/233 [==============================] - 1s 4ms/step - loss: 0.1419 - accuracy: 0.9985 - val_loss: 8.5896 - val_accuracy: 0.9667\n",
            "Epoch 20/20\n",
            "233/233 [==============================] - 1s 5ms/step - loss: 0.0668 - accuracy: 0.9993 - val_loss: 10.6158 - val_accuracy: 0.9613\n"
          ]
        }
      ],
      "source": [
        "# fit the densely connected classsifier\n",
        "history_wcb = model_without_conv_base.fit(\n",
        "    train_feature,train_labels,     # Q: How did we get train_features? A: By forward-passing the images through the conv base\n",
        "    epochs=2,\n",
        "    validation_data=(val_feature,val_labels),\n",
        "    callbacks =def_callbacks(\"feature_extraction_keras\")\n",
        ")"
      ]
    },
    {
      "cell_type": "markdown",
      "source": [
        "Plotting Accuracy and Loss vs Epochs"
      ],
      "metadata": {
        "id": "oGFxlJVrqZZd"
      }
    },
    {
      "cell_type": "code",
      "execution_count": 20,
      "metadata": {
        "id": "AwU7lbh_oML5",
        "colab": {
          "base_uri": "https://localhost:8080/",
          "height": 927
        },
        "outputId": "b1310d29-171e-4f5a-b847-8d85da968028"
      },
      "outputs": [
        {
          "output_type": "display_data",
          "data": {
            "text/plain": [
              "<Figure size 640x480 with 1 Axes>"
            ],
            "image/png": "[encoded data removed]"
          },
          "metadata": {}
        },
        {
          "output_type": "display_data",
          "data": {
            "text/plain": [
              "<Figure size 640x480 with 1 Axes>"
            ],
            "image/png": "[encoded data removed]"
          },
          "metadata": {}
        }
      ],
      "source": [
        "import pandas as pd\n",
        "data = pd.DataFrame(history_wcb.history)\n",
        "epochs = range(1,len(data)+1)\n",
        "plt.plot(epochs,data['accuracy'],'bo',label=\"Training accuracy\")\n",
        "plt.plot(epochs,data['val_accuracy'],'b',label=\"validation accuracy\")\n",
        "plt.legend()\n",
        "plt.xlabel(\"Epochs\")\n",
        "plt.ylabel(\"Accuracy\")\n",
        "plt.title(\"Accuracy vs Epochs\")\n",
        "plt.figure()\n",
        "plt.plot(epochs,data['loss'],'bo',label=\"Training Loss\")\n",
        "plt.plot(epochs,data['val_loss'],'b',label=\"validation Loss\")\n",
        "plt.legend()\n",
        "plt.xlabel(\"Epochs\")\n",
        "plt.ylabel(\"Loss\")\n",
        "plt.title(\"Loss vs Epochs\")\n",
        "\n",
        "plt.show()"
      ]
    },
    {
      "cell_type": "code",
      "execution_count": 21,
      "metadata": {
        "id": "8ohA0fCso6v3",
        "colab": {
          "base_uri": "https://localhost:8080/"
        },
        "outputId": "cc1a702d-0159-45d4-b8d5-0f1c5c2b1467"
      },
      "outputs": [
        {
          "output_type": "stream",
          "name": "stdout",
          "text": [
            "30/30 [==============================] - 0s 3ms/step - loss: 4.0503 - accuracy: 0.9796\n",
            "Test accuracy:0.980\n"
          ]
        }
      ],
      "source": [
        "test_model = load_model(\"feature_extraction_keras\")\n",
        "test_loss, test_acc = test_model.evaluate(test_feature,test_labels)\n",
        "print(f\"Test accuracy:{test_acc:.3f}\")"
      ]
    },
    {
      "cell_type": "markdown",
      "metadata": {
        "id": "w5h2ONkvyZ2c"
      },
      "source": [
        "The pretrained conv base + newly trained classification head has achieved roughly **97%** accuracy!\n",
        "\n",
        "Remember, for convnet_from_scratch_with_data_augmentation, it was ~ 85%\n",
        "\n",
        "For convnet_from_scratch, it was ~ 70%"
      ]
    },
    {
      "cell_type": "markdown",
      "metadata": {
        "id": "TpBJf_wrzSTf"
      },
      "source": [
        "## Fine tuning"
      ]
    },
    {
      "cell_type": "markdown",
      "metadata": {
        "id": "0DrZOdGXzVBN"
      },
      "source": [
        "The key idea here is to fine tune some top layers of the conv base as well.\n",
        "\n",
        "We do so by freezing most of the bottom layers, leaving only a few top layers to train. Lets see:"
      ]
    },
    {
      "cell_type": "code",
      "execution_count": 22,
      "metadata": {
        "id": "kTjJMKK2zr5_"
      },
      "outputs": [],
      "source": [
        "# Load the convolutional base\n",
        "conv_base = VGG16(\n",
        "    weights = \"imagenet\",\n",
        "    include_top = False, # Don't re-use the classifier (top layers)\n",
        "    input_shape = (180,180,3)\n",
        ")"
      ]
    },
    {
      "cell_type": "code",
      "source": [
        "#Define the model\n",
        "inputs = Input(shape=(180, 180, 3))\n",
        "# x = data_augmentation(inputs)\n",
        "x = preprocess_input(inputs)\n",
        "x = conv_base(x)\n",
        "x = Flatten()(x)\n",
        "x = Dense(256)(x)\n",
        "x = Dropout(0.5)(x)\n",
        "outputs = Dense(1, activation=\"sigmoid\")(x)\n",
        "model = Model(inputs, outputs)"
      ],
      "metadata": {
        "id": "B75ct3dqmibj"
      },
      "execution_count": 23,
      "outputs": []
    },
    {
      "cell_type": "code",
      "source": [
        "from tensorflow.keras.optimizers import RMSprop"
      ],
      "metadata": {
        "id": "B9dnMykRt2vh"
      },
      "execution_count": 24,
      "outputs": []
    },
    {
      "cell_type": "code",
      "source": [
        "#Freezing all layers until the fourth from the last\n",
        "conv_base.trainable = True\n",
        "for layer in conv_base.layers[:-4]:   #[1,2,3,4,5,6,7,8,9]\n",
        "    layer.trainable = False\n",
        "\n",
        "#  Model compilation and summary\n",
        "model.compile(loss=\"binary_crossentropy\",\n",
        "              optimizer=RMSprop(learning_rate=1e-5), # use low learning rate to not vary the weights drastically\n",
        "              metrics=[\"accuracy\"])\n",
        "\n",
        "model.summary()"
      ],
      "metadata": {
        "id": "NQ387fN1mooT",
        "colab": {
          "base_uri": "https://localhost:8080/"
        },
        "outputId": "b30ad87d-7d01-4931-f254-75a272a21cad"
      },
      "execution_count": 25,
      "outputs": [
        {
          "output_type": "stream",
          "name": "stdout",
          "text": [
            "Model: \"model_1\"\n",
            "_________________________________________________________________\n",
            " Layer (type)                Output Shape              Param #   \n",
            "=================================================================\n",
            " input_4 (InputLayer)        [(None, 180, 180, 3)]     0         \n",
            "                                                                 \n",
            " tf.__operators__.getitem (  (None, 180, 180, 3)       0         \n",
            " SlicingOpLambda)                                                \n",
            "                                                                 \n",
            " tf.nn.bias_add (TFOpLambda  (None, 180, 180, 3)       0         \n",
            " )                                                               \n",
            "                                                                 \n",
            " vgg16 (Functional)          (None, 5, 5, 512)         14714688  \n",
            "                                                                 \n",
            " flatten_1 (Flatten)         (None, 12800)             0         \n",
            "                                                                 \n",
            " dense_2 (Dense)             (None, 256)               3277056   \n",
            "                                                                 \n",
            " dropout_1 (Dropout)         (None, 256)               0         \n",
            "                                                                 \n",
            " dense_3 (Dense)             (None, 1)                 257       \n",
            "                                                                 \n",
            "=================================================================\n",
            "Total params: 17992001 (68.63 MB)\n",
            "Trainable params: 10356737 (39.51 MB)\n",
            "Non-trainable params: 7635264 (29.13 MB)\n",
            "_________________________________________________________________\n"
          ]
        }
      ]
    },
    {
      "cell_type": "code",
      "source": [
        "## Callback function\n",
        "callbacks = [ModelCheckpoint(filepath=\"fine_tuning_keras\", save_best_only=True, monitor=\"val_loss\")]"
      ],
      "metadata": {
        "id": "BhI6SuYim0Hi"
      },
      "execution_count": 26,
      "outputs": []
    },
    {
      "cell_type": "code",
      "source": [
        "## Training\n",
        "history = model.fit(train_dataset, epochs=3, validation_data=validation_dataset, callbacks=callbacks)"
      ],
      "metadata": {
        "id": "S_SJzWbGnQUc",
        "colab": {
          "base_uri": "https://localhost:8080/"
        },
        "outputId": "9f5fcb6c-b687-4802-e488-76f9dcf9574d"
      },
      "execution_count": 28,
      "outputs": [
        {
          "output_type": "stream",
          "name": "stdout",
          "text": [
            "Epoch 1/3\n",
            "233/233 [==============================] - 46s 199ms/step - loss: 0.1419 - accuracy: 0.9957 - val_loss: 3.7417e-07 - val_accuracy: 1.0000\n",
            "Epoch 2/3\n",
            "233/233 [==============================] - 45s 192ms/step - loss: 0.0778 - accuracy: 0.9965 - val_loss: 3.7226e-10 - val_accuracy: 1.0000\n",
            "Epoch 3/3\n",
            "233/233 [==============================] - 47s 202ms/step - loss: 0.1080 - accuracy: 0.9961 - val_loss: 0.0230 - val_accuracy: 0.9968\n"
          ]
        }
      ]
    },
    {
      "cell_type": "code",
      "source": [
        "## Evaluation\n",
        "model = load_model(\"fine_tuning_keras\")\n",
        "test_loss, test_acc = model.evaluate(test_dataset)\n",
        "print(f\"Test accuracy: {test_acc:.3f}\")\n",
        "\n",
        "# OPTIONAL EXERCISE: plot the losses by using appropriate callbacks and tensorboard"
      ],
      "metadata": {
        "id": "F6L_SQlHnJj0",
        "colab": {
          "base_uri": "https://localhost:8080/"
        },
        "outputId": "68899c38-cf78-4a64-df2f-c806977ed38d"
      },
      "execution_count": 29,
      "outputs": [
        {
          "output_type": "stream",
          "name": "stdout",
          "text": [
            "30/30 [==============================] - 17s 99ms/step - loss: 0.0031 - accuracy: 0.9989\n",
            "Test accuracy: 0.999\n"
          ]
        }
      ]
    },
    {
      "cell_type": "markdown",
      "metadata": {
        "id": "UBFUlWZwpMt5"
      },
      "source": [
        "# Using already run and saved models\n",
        "\n",
        "For this save the model checkpoints in your drive (download the checkpoints and save to drive) give that path while loading.\n",
        "\n",
        "Mount your G drive:"
      ]
    },
    {
      "cell_type": "code",
      "source": [
        "from google.colab import drive\n",
        "drive.mount('/content/drive')\n",
        "%cd \"/content/drive/My Drive/\""
      ],
      "metadata": {
        "id": "1zlZ6A2D1iTB",
        "colab": {
          "base_uri": "https://localhost:8080/"
        },
        "outputId": "81deff44-3e0b-4d9a-e110-23d2df1020bb"
      },
      "execution_count": 30,
      "outputs": [
        {
          "output_type": "stream",
          "name": "stdout",
          "text": [
            "Mounted at /content/drive\n",
            "/content/drive/My Drive\n"
          ]
        }
      ]
    },
    {
      "cell_type": "markdown",
      "source": [
        "For example, you downloaded the `feature_extraction_keras` model and saved it in your drive inside a folder named 'model'. You can load it here like this:\n",
        "\n",
        "    model_saved_1 = load_model('/content/drive/MyDrive/models/feature_extraction_keras')"
      ],
      "metadata": {
        "id": "DC4PNMZGvOgo"
      }
    },
    {
      "cell_type": "markdown",
      "source": [
        " In this case the file path is simply : '/content/feature_extraction_keras'"
      ],
      "metadata": {
        "id": "N4fBwcIYudkJ"
      }
    },
    {
      "cell_type": "code",
      "execution_count": 31,
      "metadata": {
        "id": "zoNajzD7pntO"
      },
      "outputs": [],
      "source": [
        "model_fewa = load_model('/content/feature_extraction_keras')"
      ]
    },
    {
      "cell_type": "code",
      "execution_count": 32,
      "metadata": {
        "id": "2dky0dGDqoew",
        "colab": {
          "base_uri": "https://localhost:8080/"
        },
        "outputId": "77e24935-7d2f-4fe0-c7b0-0f06ca5175da"
      },
      "outputs": [
        {
          "output_type": "stream",
          "name": "stdout",
          "text": [
            "30/30 [==============================] - 0s 5ms/step - loss: 4.0503 - accuracy: 0.9796\n",
            "Test accuracy is:0.980\n"
          ]
        }
      ],
      "source": [
        "test_loss, test_acc = model_fewa.evaluate(test_feature, test_labels)\n",
        "print(f\"Test accuracy is:{test_acc:.3f}\")"
      ]
    },
    {
      "cell_type": "markdown",
      "metadata": {
        "id": "FzD_PIikOtew"
      },
      "source": [
        "Great! feature_extraction model has achieved **97%** accuracy!"
      ]
    },
    {
      "cell_type": "code",
      "source": [],
      "metadata": {
        "id": "DO0-qld3r1kL"
      },
      "execution_count": null,
      "outputs": []
    },
    {
      "cell_type": "code",
      "source": [],
      "metadata": {
        "id": "L24CcgOyr1o8"
      },
      "execution_count": null,
      "outputs": []
    }
  ]
}